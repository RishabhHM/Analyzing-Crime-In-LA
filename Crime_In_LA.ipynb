{
 "cells": [
  {
   "cell_type": "markdown",
   "metadata": {},
   "source": [
    "# Analyzing Crime In Los Angeles"
   ]
  },
  {
   "cell_type": "markdown",
   "metadata": {},
   "source": [
    "### Background\n",
    "Los Angeles, California 😎. The City of Angels. Tinseltown. The Entertainment Capital of the World! Known for its warm weather, palm trees, sprawling coastline, and Hollywood, along with producing some of the most iconic films and songs!\n",
    "\n",
    "However, as with any highly populated city, it isn't always glamorous and there can be a large volume of crime. This is the juncture where the project objective assumes significance.\n",
    "\n",
    "### Objective\n",
    "Support the Los Angeles Police Department (LAPD) by cleaning and analyzing the crime data to identify patterns in criminal behavior. The LAPD plans to use our insights to allocate resources effectively to tackle various crimes in different areas.\n",
    "\n",
    "### TO DO\n",
    "- Clean and prepare the dataset for analysis\n",
    "- Perform exploratory data analysis\n",
    "- Formulate and address questions related to crime trends, patterns, and factors influencing crime rates."
   ]
  },
  {
   "cell_type": "markdown",
   "metadata": {},
   "source": [
    "<hr>\n",
    "<hr>"
   ]
  }
 ],
 "metadata": {
  "language_info": {
   "name": "python"
  }
 },
 "nbformat": 4,
 "nbformat_minor": 2
}
